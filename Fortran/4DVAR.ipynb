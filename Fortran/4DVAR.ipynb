{
 "cells": [
  {
   "cell_type": "code",
   "execution_count": null,
   "metadata": {},
   "outputs": [],
   "source": [
    "%matplotlib inline\n",
    "import numpy as np\n",
    "import LORENZ63\n",
    "import matplotlib.pyplot as plt\n",
    "\n",
    "from matplotlib.animation import FuncAnimation\n",
    "plt.style.use('ggplot')\n",
    "\n",
    "\n",
    "\n",
    "def animate(i):\n",
    "    if i == 0:\n",
    "        x_init = np.array([1.508870, -1.531271, 25.46091])\n",
    "    else:\n",
    "        x_init = np.array((x[50],y[50],z[50]))\n",
    "        for i in range(50):\n",
    "            x.pop(0)\n",
    "            y.pop(0)\n",
    "            z.pop(0)\n",
    "    x_vals = LORENZ63.assimilation.run_forward(x_init, 4000, .001)\n",
    "\n",
    "    if i == 0:\n",
    "        x.extend(x_vals[:,0].tolist())\n",
    "        y.extend(x_vals[:, 1].tolist())\n",
    "        z.extend(x_vals[:, 2].tolist())\n",
    "    else:\n",
    "        x.extend(x_vals[-50:, 0].tolist())\n",
    "        y.extend(x_vals[-50:, 1].tolist())\n",
    "        z.extend(x_vals[-50:, 2].tolist())\n",
    "\n",
    "    lz.set_data(x_vals[:,0],x_vals[:,1])\n",
    "    lz.set_3d_properties(x_vals[:,2])\n",
    "\n",
    "    return lz,\n",
    "\n",
    "def init():\n",
    "\n",
    "    ax.set_xlabel('x')\n",
    "    ax.set_ylabel('y')\n",
    "    ax.set_zlabel('z')\n",
    "\n",
    "    ax.set_xlim(-20, 20)\n",
    "    ax.set_ylim(-20, 20)\n",
    "    ax.set_zlim(0, 50)\n",
    "\n",
    "    return lz,\n",
    "step = 10\n",
    "print(step)\n",
    "steps = np.arange(0, 100)\n",
    "#ani = FuncAnimation(fig, animate, steps, init_func=init, interval=20, blit=True)\n",
    "from IPython.display import HTML\n",
    "#HTML(ani.to_html5_video())\n",
    "print(HTML)"
   ]
  },
  {
   "cell_type": "code",
   "execution_count": null,
   "metadata": {},
   "outputs": [],
   "source": [
    "fig = plt.figure(figsize=(8, 8))\n",
    "ax = fig.add_subplot(1, 1, 1, projection='3d')\n",
    "lz, = ax.plot3D(np.zeros(1), np.zeros(1), np.zeros(1), 'gray')\n",
    "x,y,z = [],[],[]"
   ]
  },
  {
   "cell_type": "code",
   "execution_count": null,
   "metadata": {},
   "outputs": [],
   "source": []
  },
  {
   "cell_type": "code",
   "execution_count": null,
   "metadata": {},
   "outputs": [],
   "source": []
  },
  {
   "cell_type": "markdown",
   "metadata": {},
   "source": []
  },
  {
   "cell_type": "code",
   "execution_count": null,
   "metadata": {},
   "outputs": [],
   "source": []
  },
  {
   "cell_type": "code",
   "execution_count": null,
   "metadata": {},
   "outputs": [],
   "source": []
  },
  {
   "cell_type": "code",
   "execution_count": null,
   "metadata": {},
   "outputs": [],
   "source": []
  }
 ],
 "metadata": {
  "kernelspec": {
   "display_name": "Python 3",
   "language": "python",
   "name": "python3"
  },
  "language_info": {
   "codemirror_mode": {
    "name": "ipython",
    "version": 3
   },
   "file_extension": ".py",
   "mimetype": "text/x-python",
   "name": "python",
   "nbconvert_exporter": "python",
   "pygments_lexer": "ipython3",
   "version": "3.7.3"
  }
 },
 "nbformat": 4,
 "nbformat_minor": 2
}
